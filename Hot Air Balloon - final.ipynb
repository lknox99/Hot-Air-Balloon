{
 "cells": [
  {
   "cell_type": "code",
   "execution_count": 1,
   "id": "bbe7d154",
   "metadata": {},
   "outputs": [
    {
     "data": {
      "text/html": [
       "<div id=\"glowscript\" class=\"glowscript\"></div>"
      ],
      "text/plain": [
       "<IPython.core.display.HTML object>"
      ]
     },
     "metadata": {},
     "output_type": "display_data"
    },
    {
     "data": {
      "application/javascript": [
       "if (typeof Jupyter !== \"undefined\") { window.__context = { glowscript_container: $(\"#glowscript\").removeAttr(\"id\")};}else{ element.textContent = ' ';}"
      ],
      "text/plain": [
       "<IPython.core.display.Javascript object>"
      ]
     },
     "metadata": {},
     "output_type": "display_data"
    }
   ],
   "source": [
    "from math import *\n",
    "from vpython import *\n",
    "import pandas as pd"
   ]
  },
  {
   "cell_type": "code",
   "execution_count": 2,
   "id": "7e3ccea4",
   "metadata": {
    "scrolled": true
   },
   "outputs": [
    {
     "data": {
      "application/javascript": [
       "if (typeof Jupyter !== \"undefined\") {require.undef(\"nbextensions/vpython_libraries/glow.min\");}else{element.textContent = ' ';}"
      ],
      "text/plain": [
       "<IPython.core.display.Javascript object>"
      ]
     },
     "metadata": {},
     "output_type": "display_data"
    },
    {
     "data": {
      "application/javascript": [
       "if (typeof Jupyter !== \"undefined\") {require.undef(\"nbextensions/vpython_libraries/glowcomm\");}else{element.textContent = ' ';}"
      ],
      "text/plain": [
       "<IPython.core.display.Javascript object>"
      ]
     },
     "metadata": {},
     "output_type": "display_data"
    },
    {
     "data": {
      "application/javascript": [
       "if (typeof Jupyter !== \"undefined\") {require.undef(\"nbextensions/vpython_libraries/jquery-ui.custom.min\");}else{element.textContent = ' ';}"
      ],
      "text/plain": [
       "<IPython.core.display.Javascript object>"
      ]
     },
     "metadata": {},
     "output_type": "display_data"
    },
    {
     "data": {
      "application/javascript": [
       "if (typeof Jupyter !== \"undefined\") {require([\"nbextensions/vpython_libraries/glow.min\"], function(){console.log(\"GLOW LOADED\");});}else{element.textContent = ' ';}"
      ],
      "text/plain": [
       "<IPython.core.display.Javascript object>"
      ]
     },
     "metadata": {},
     "output_type": "display_data"
    },
    {
     "data": {
      "application/javascript": [
       "if (typeof Jupyter !== \"undefined\") {require([\"nbextensions/vpython_libraries/glowcomm\"], function(){console.log(\"GLOWCOMM LOADED\");});}else{element.textContent = ' ';}"
      ],
      "text/plain": [
       "<IPython.core.display.Javascript object>"
      ]
     },
     "metadata": {},
     "output_type": "display_data"
    },
    {
     "data": {
      "application/javascript": [
       "if (typeof Jupyter !== \"undefined\") {require([\"nbextensions/vpython_libraries/jquery-ui.custom.min\"], function(){console.log(\"JQUERY LOADED\");});}else{element.textContent = ' ';}"
      ],
      "text/plain": [
       "<IPython.core.display.Javascript object>"
      ]
     },
     "metadata": {},
     "output_type": "display_data"
    },
    {
     "data": {
      "text/html": [
       "<div id=\"glowscript\" class=\"glowscript\"></div>"
      ],
      "text/plain": [
       "<IPython.core.display.HTML object>"
      ]
     },
     "metadata": {},
     "output_type": "display_data"
    },
    {
     "data": {
      "application/javascript": [
       "if (typeof Jupyter !== \"undefined\") { window.__context = { glowscript_container: $(\"#glowscript\").removeAttr(\"id\")};}else{ element.textContent = ' ';}"
      ],
      "text/plain": [
       "<IPython.core.display.Javascript object>"
      ]
     },
     "metadata": {},
     "output_type": "display_data"
    },
    {
     "data": {
      "text/html": [
       "<div id=\"glowscript\" class=\"glowscript\"></div>"
      ],
      "text/plain": [
       "<IPython.core.display.HTML object>"
      ]
     },
     "metadata": {},
     "output_type": "display_data"
    },
    {
     "data": {
      "application/javascript": [
       "if (typeof Jupyter !== \"undefined\") { window.__context = { glowscript_container: $(\"#glowscript\").removeAttr(\"id\")};}else{ element.textContent = ' ';}"
      ],
      "text/plain": [
       "<IPython.core.display.Javascript object>"
      ]
     },
     "metadata": {},
     "output_type": "display_data"
    },
    {
     "data": {
      "text/html": [
       "<div id=\"glowscript\" class=\"glowscript\"></div>"
      ],
      "text/plain": [
       "<IPython.core.display.HTML object>"
      ]
     },
     "metadata": {},
     "output_type": "display_data"
    },
    {
     "data": {
      "application/javascript": [
       "if (typeof Jupyter !== \"undefined\") { window.__context = { glowscript_container: $(\"#glowscript\").removeAttr(\"id\")};}else{ element.textContent = ' ';}"
      ],
      "text/plain": [
       "<IPython.core.display.Javascript object>"
      ]
     },
     "metadata": {},
     "output_type": "display_data"
    },
    {
     "data": {
      "text/html": [
       "<div id=\"glowscript\" class=\"glowscript\"></div>"
      ],
      "text/plain": [
       "<IPython.core.display.HTML object>"
      ]
     },
     "metadata": {},
     "output_type": "display_data"
    },
    {
     "data": {
      "application/javascript": [
       "if (typeof Jupyter !== \"undefined\") { window.__context = { glowscript_container: $(\"#glowscript\").removeAttr(\"id\")};}else{ element.textContent = ' ';}"
      ],
      "text/plain": [
       "<IPython.core.display.Javascript object>"
      ]
     },
     "metadata": {},
     "output_type": "display_data"
    },
    {
     "data": {
      "text/html": [
       "<div id=\"glowscript\" class=\"glowscript\"></div>"
      ],
      "text/plain": [
       "<IPython.core.display.HTML object>"
      ]
     },
     "metadata": {},
     "output_type": "display_data"
    },
    {
     "data": {
      "application/javascript": [
       "if (typeof Jupyter !== \"undefined\") { window.__context = { glowscript_container: $(\"#glowscript\").removeAttr(\"id\")};}else{ element.textContent = ' ';}"
      ],
      "text/plain": [
       "<IPython.core.display.Javascript object>"
      ]
     },
     "metadata": {},
     "output_type": "display_data"
    },
    {
     "data": {
      "text/html": [
       "<div id=\"glowscript\" class=\"glowscript\"></div>"
      ],
      "text/plain": [
       "<IPython.core.display.HTML object>"
      ]
     },
     "metadata": {},
     "output_type": "display_data"
    },
    {
     "data": {
      "application/javascript": [
       "if (typeof Jupyter !== \"undefined\") { window.__context = { glowscript_container: $(\"#glowscript\").removeAttr(\"id\")};}else{ element.textContent = ' ';}"
      ],
      "text/plain": [
       "<IPython.core.display.Javascript object>"
      ]
     },
     "metadata": {},
     "output_type": "display_data"
    }
   ],
   "source": [
    "#constants\n",
    "NA = 6.023e23\n",
    "g = 9.8 #assume constant\n",
    "r = 8.314\n",
    "kB = 1.380649e-23\n",
    "P0 = 101325 #N/m**2, pressure at sea level\n",
    "Ti = 293 #Kelvin, temperature at sea level\n",
    "h = 10 #heat transfer coefficient for open convection\n",
    "airMoleculeMass = 24.81e-26 #kg\n",
    "\n",
    "#functions\n",
    "\n",
    "#environmental conditions\n",
    "#Ti: the temperature at sea level, h: the height of the balloon\n",
    "def environmentTemp(height):\n",
    "    return Ti - h/1000 * 9.8\n",
    "#P0: sea level pressure, height: the height of the balloon, temperature: the temperature of the air\n",
    "def atmoPressure(height, temperature): #P0 = sea level pressure\n",
    "    return P0 * pow(e, (-airMoleculeMass*g*height/(kB*temperature)))\n",
    "#pressure: the air pressure, temperature: the temperature of the air\n",
    "def atmoDensity(pressure, temperature):\n",
    "    return pressure/((kB/airMoleculeMass)*temperature)\n",
    "\n",
    "#use ideal gas law to calculate n (number of particles in balloon)\n",
    "def nIdealGasLaw(volume, pressure, temperature):\n",
    "    return pressure*volume/(r*temperature)*NA\n",
    "def massDensityAir(numAirParticles, volume):\n",
    "    return numAirParticles*airMoleculeMass/volume \n",
    "#h: heat transfer coefficient, A: heat transfer surface area, \n",
    "#Tt:time-dependent temperature of the object's surface, Te: temperature of the environment\n",
    "def Newton(h, A, Tt, Te): #Newton's law of cooling, output is dQ/dt\n",
    "    return h * A * (Tt-Te)\n",
    "\n",
    "#Force equations\n",
    "def buoyancy(outsideDensity,balloon):\n",
    "    buoyancy = vector(0, 0, outsideDensity * g * balloon.volume)\n",
    "    return buoyancy\n",
    "def gravity(mass):\n",
    "    gravity = vector(0, 0, mass * (-g))\n",
    "    return gravity\n",
    "def airResistance(outsideDensity,balloon):\n",
    "    dragCoefficient = 0.47\n",
    "    crossArea = pi * (balloon.radius)**2\n",
    "    airResistance = 0.5 * outsideDensity * (mag(balloon.velocity)**2) * dragCoefficient * crossArea*(-hat(balloon.velocity))\n",
    "    return airResistance\n",
    "\n",
    "# Energy equations\n",
    "def KE(mass, momentum):\n",
    "    return 1/2 * mag(momentum)**2 / mass\n",
    "def Ug(mass, height):\n",
    "    return mass*g * height\n",
    "\n",
    "# Heat/temperature conversion\n",
    "#t0: the temperature in last loop, mass: the mass of the object, \n",
    "#heat: heat changed from last loop, c:specific heat\n",
    "def heatToTemp(t0, mass, heat, c): #t0: the temperature in last loop, c:specific heat\n",
    "    return t0 + heat/(mass*c)\n",
    "\n",
    "heightPlot = graph(title='Hot air balloon endurance',xtitle='fuel(kg)',ytitle='maximum height reached (m)',xmin=0,ymin=0)\n",
    "drawHeight = gcurve(color=color.black,label='height')\n",
    "hdf = pd.DataFrame(columns = ['fuel', 'height'])\n",
    "\n",
    "for i in (range(75, 101, 5)):\n",
    "    scene1 = canvas(title=\"Hot air balloon\",caption=\"caption here\",center=vector(0,0,0),\n",
    "             width=1000, height=1000,background=color.blue)\n",
    "    #create graphs here\n",
    "\n",
    "#     Fplot = graph(title='Force plot',xtitle='time (s)',ytitle='force (N)')\n",
    "#     drawFg = gcurve(color=color.purple,label='Gravity')\n",
    "#     drawFb = gcurve(color=color.blue,label='Buoyancy')\n",
    "#     drawFa = gcurve(color=color.cyan,label='Air resistance')\n",
    "#     drawQ = gcurve(color=color.red, label='Heat in balloon (J)')\n",
    "#     drawH = gcurve(color=color.black, label='Height (m)')\n",
    "\n",
    "#     Eplot=graph(title='Energy plot',xtitle='height(m)',ytitle='Energy(J)',xmin=0,ymin=0)\n",
    "#     drawKE = gcurve(color=color.green,label='KE/10^4')\n",
    "#     drawUg = gcurve(color=color.blue,label='Ug/10^8')\n",
    "#     drawQ = gcurve(color=color.red,label='Q/10^9')\n",
    "#     drawUc = gcurve(color=color.orange, label='Uchem/10^9')\n",
    "#     drawEtot = gcurve(color=color.black, label='Total/10^9')\n",
    "    \n",
    "    #create objects\n",
    "    ground = box(pos = vector(0, 0, 0), size=vector(50, 50, 0), color=color.green)\n",
    "    basket = box(pos = vector(0, 0, 0.5), size =vector(1, 1, 1), color=color.yellow)\n",
    "    balloon = sphere(pos = vector(0, 0, 10.4), radius = 8.4, color=color.yellow)\n",
    "    fire = sphere(pos = vector(0, 0, 3), radius = 1, color=color.red)\n",
    "\n",
    "    #set initial conditions(velocity, etc) here\n",
    "    AtmoTemp=293 #room temperature\n",
    "    BallonTemp=293 #room temperature\n",
    "\n",
    "    balloon.velocity = vector(0,0,0)\n",
    "    balloon.momentum=vector(0, 0, 0)\n",
    "    balloon.volume=4/3*pi*balloon.radius**3\n",
    "    balloon.shellMass = 100\n",
    "    balloon.basketMass = 300\n",
    "    balloon.surfaceArea = 4*pi*balloon.radius**2\n",
    "    balloon.t0 = Ti\n",
    "    balloon.temp = Ti\n",
    "    balloon.q = 0\n",
    "    balloon.c = 1.67 * 1000 #j/kg \n",
    "    internalDensity = massDensityAir(nIdealGasLaw(balloon.volume, atmoPressure(balloon.pos.z, Ti), Ti), balloon.volume)\n",
    "\n",
    "    fire.q = 0\n",
    "    fire.temp = Ti\n",
    "    fire.t0 = Ti\n",
    "    fire.surfaceArea = 4*pi*fire.radius**2\n",
    "\n",
    "\n",
    "    #set fuel amount, fuel burn rate here\n",
    "    fuelmass = i\n",
    "    burnRate = 0.0157725*.493 #L/s * kg/L = kg/s\n",
    "    dqdtFire = burnRate*50e6 #50e6 is joules/kg \n",
    "    efficiency = 0.7 #the efficiency for the fuel convert into energy\n",
    "\n",
    "    deltaQ = 0 #total heat transfer from balloon to outside\n",
    "\n",
    "\n",
    "    t = 0\n",
    "    dt = 0.5\n",
    "    runRate = 1000\n",
    "\n",
    "    while (balloon.momentum.z>=0 and (fuelmass>0 or balloon.momentum.z>0)):\n",
    "        rate(runRate)\n",
    "        t += dt\n",
    "\n",
    "        #calculate buoyancy\n",
    "        externalTemperature = environmentTemp(height = balloon.pos.z)\n",
    "        externalPressure = atmoPressure(height = balloon.pos.z, temperature = externalTemperature)\n",
    "        externalDensity = atmoDensity(pressure = externalPressure, temperature = externalTemperature)\n",
    "        Fb = buoyancy(outsideDensity = externalDensity, balloon=balloon)\n",
    "\n",
    "        #figure out how much thermal energy is transferred to the system\n",
    "        if fuelmass>0:\n",
    "            dqdtFireBalloon = dqdtFire * efficiency\n",
    "            fuelmass -= burnRate*dt\n",
    "        else:\n",
    "            dqdtFireBalloon = 0\n",
    "            fire.color=color.black\n",
    "\n",
    "\n",
    "        #Newton's law of cooling for baloon-->atmosphere\n",
    "        dqdtBalloonAtmo = Newton(h = h, A = balloon.surfaceArea, Tt = balloon.temp, Te = externalTemperature)\n",
    "\n",
    "        # update heat in balloon, convert to temperature\n",
    "        balloon.q += (dqdtFireBalloon - dqdtBalloonAtmo)*dt\n",
    "        balloon.temp = heatToTemp(t0=balloon.t0,mass=(balloon.shellMass+internalDensity*balloon.volume),heat=(dqdtFireBalloon-dqdtBalloonAtmo)*dt,c=balloon.c)\n",
    "\n",
    "        #calculate gravity\n",
    "        internalParticles = nIdealGasLaw(volume=balloon.volume, pressure=externalPressure,temperature=balloon.temp)\n",
    "        internalDensity = massDensityAir(numAirParticles=internalParticles,volume=balloon.volume)\n",
    "        balloon.totalMass = balloon.shellMass+internalDensity*balloon.volume+balloon.basketMass\n",
    "        Fg = gravity(mass=balloon.totalMass)\n",
    "\n",
    "        #calculate air resistance\n",
    "        Fa = airResistance(externalDensity, balloon)\n",
    "\n",
    "        #add gravity, buoyancy, air resistance to get total force\n",
    "        Ftotal = Fg+Fb+Fa\n",
    "        if basket.pos.z <=0.5 and Ftotal.z<0:\n",
    "            Ftotal = vector(0, 0, 0)\n",
    "\n",
    "        #update momentum\n",
    "        balloon.momentum += Ftotal * dt\n",
    "        balloon.velocity = balloon.momentum/balloon.totalMass\n",
    "\n",
    "        #update position\n",
    "        balloon.pos += balloon.velocity*dt\n",
    "        basket.pos += balloon.velocity*dt\n",
    "        fire.pos += balloon.velocity*dt\n",
    "\n",
    "        balloon.t0 = balloon.temp\n",
    "        scene1.camera.follow(balloon)\n",
    "        if (Ftotal.z>0):\n",
    "            balloon.opacity = 0.5\n",
    "#         drawFg.plot(t, Fg.z/1e4)\n",
    "#         drawFb.plot(t, Fb.z/1e4)\n",
    "#         drawFa.plot(t, Fa.z)\n",
    "#         drawQ.plot(t, balloon.q/1e6)\n",
    "#         drawH.plot(t, balloon.pos.z)\n",
    "\n",
    "#         drawKE.plot(balloon.pos.z, KE(mass=balloon.totalMass,momentum=balloon.momentum)/1e4)\n",
    "#         drawUg.plot(balloon.pos.z, Ug(mass=balloon.totalMass,height=balloon.pos.z)/1e8)\n",
    "#         drawQ.plot(balloon.pos.z, balloon.q/1e9)\n",
    "#         drawUc.plot(balloon.pos.z, fuelmass*50e6/1e9)\n",
    "#         drawEtot.plot(balloon.pos.z, (KE(mass=balloon.totalMass,momentum=balloon.momentum)+Ug(mass=balloon.totalMass,height=balloon.pos.z)+balloon.q+fuelmass*50e6)/1e9)\n",
    "\n",
    "    drawHeight.plot(i,balloon.pos.z)\n",
    "    hdf.loc[len(hdf.index)] = [i,balloon.pos.z] "
   ]
  },
  {
   "cell_type": "code",
   "execution_count": 3,
   "id": "2c164d14",
   "metadata": {},
   "outputs": [
    {
     "data": {
      "text/html": [
       "<div>\n",
       "<style scoped>\n",
       "    .dataframe tbody tr th:only-of-type {\n",
       "        vertical-align: middle;\n",
       "    }\n",
       "\n",
       "    .dataframe tbody tr th {\n",
       "        vertical-align: top;\n",
       "    }\n",
       "\n",
       "    .dataframe thead th {\n",
       "        text-align: right;\n",
       "    }\n",
       "</style>\n",
       "<table border=\"1\" class=\"dataframe\">\n",
       "  <thead>\n",
       "    <tr style=\"text-align: right;\">\n",
       "      <th></th>\n",
       "      <th>fuel</th>\n",
       "      <th>height</th>\n",
       "    </tr>\n",
       "  </thead>\n",
       "  <tbody>\n",
       "    <tr>\n",
       "      <th>0</th>\n",
       "      <td>75.0</td>\n",
       "      <td>2154.674989</td>\n",
       "    </tr>\n",
       "    <tr>\n",
       "      <th>1</th>\n",
       "      <td>80.0</td>\n",
       "      <td>2154.693682</td>\n",
       "    </tr>\n",
       "    <tr>\n",
       "      <th>2</th>\n",
       "      <td>85.0</td>\n",
       "      <td>2154.701514</td>\n",
       "    </tr>\n",
       "    <tr>\n",
       "      <th>3</th>\n",
       "      <td>90.0</td>\n",
       "      <td>2154.704794</td>\n",
       "    </tr>\n",
       "    <tr>\n",
       "      <th>4</th>\n",
       "      <td>95.0</td>\n",
       "      <td>2154.706169</td>\n",
       "    </tr>\n",
       "    <tr>\n",
       "      <th>5</th>\n",
       "      <td>100.0</td>\n",
       "      <td>2154.706744</td>\n",
       "    </tr>\n",
       "  </tbody>\n",
       "</table>\n",
       "</div>"
      ],
      "text/plain": [
       "    fuel       height\n",
       "0   75.0  2154.674989\n",
       "1   80.0  2154.693682\n",
       "2   85.0  2154.701514\n",
       "3   90.0  2154.704794\n",
       "4   95.0  2154.706169\n",
       "5  100.0  2154.706744"
      ]
     },
     "execution_count": 3,
     "metadata": {},
     "output_type": "execute_result"
    }
   ],
   "source": [
    "hdf"
   ]
  },
  {
   "cell_type": "code",
   "execution_count": null,
   "id": "b1f818fc",
   "metadata": {},
   "outputs": [],
   "source": []
  }
 ],
 "metadata": {
  "kernelspec": {
   "display_name": "Python 3 (ipykernel)",
   "language": "python",
   "name": "python3"
  },
  "language_info": {
   "codemirror_mode": {
    "name": "ipython",
    "version": 3
   },
   "file_extension": ".py",
   "mimetype": "text/x-python",
   "name": "python",
   "nbconvert_exporter": "python",
   "pygments_lexer": "ipython3",
   "version": "3.10.12"
  }
 },
 "nbformat": 4,
 "nbformat_minor": 5
}
